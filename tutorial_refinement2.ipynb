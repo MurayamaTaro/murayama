{
 "cells": [
  {
   "cell_type": "code",
   "execution_count": 2,
   "metadata": {},
   "outputs": [
    {
     "data": {
      "text/plain": [
       "refinementcp (generic function with 1 method)"
      ]
     },
     "execution_count": 2,
     "metadata": {},
     "output_type": "execute_result"
    }
   ],
   "source": [
    "# 演習問題1_1\n",
    "# refinement前の基底関数\n",
    "p = 1\n",
    "k = [0.0, 0.0, 1.0, 1.0]\n",
    "a = [-1.0,1.0]\n",
    "\n",
    "# refinement後の基底関数\n",
    "pr = 2\n",
    "kr = [0.0, 0.0, 0.0, 1.0, 1.0, 1.0]\n",
    "\n",
    "# リファインメント後の制御点を求める\n",
    "function refinementcp(p,k,a,pr,kr)\n",
    "    N = length(k)-p-1\n",
    "    Nr = length(kr)-pr-1\n",
    "    ar = zeros(Float64,Nr)\n",
    "    \n",
    "    # Cijを求める\n",
    "    κ = [kr[i]*(Nr-i)/(Nr+1)+kr[i+p+1]*(i+1)/(Nr+1) for i in 1:Nr]\n",
    "    A = [Bs(j,pr,kr,κ[i]) for i in 1:Nr, j in 1:Nr]\n",
    "    x = zeros(Float64,Nr)\n",
    "    C = zeros(Float64,(N,Nr))\n",
    "    for i in 1:N\n",
    "        b = [Bs(i,p,k,κ[j]) for j in 1:Nr]\n",
    "        x = A\\b\n",
    "        for j in 1:Nr\n",
    "            C[i,j] = x[j]\n",
    "        end\n",
    "    end\n",
    "\n",
    "    # 制御点を求める\n",
    "    for i in 1:Nr\n",
    "        ar[i] = sum(C[j,i]*a[j] for j in 1:N)\n",
    "    end\n",
    "    return ar\n",
    "end"
   ]
  },
  {
   "cell_type": "code",
   "execution_count": 3,
   "metadata": {},
   "outputs": [
    {
     "ename": "UndefVarError",
     "evalue": "UndefVarError: Bs not defined",
     "output_type": "error",
     "traceback": [
      "UndefVarError: Bs not defined",
      "",
      "Stacktrace:",
      " [1] (::var\"#13#14\")(::Tuple{Int64,Int64}) at .\\none:0",
      " [2] iterate at .\\generator.jl:47 [inlined]",
      " [3] collect(::Base.Generator{Base.Iterators.ProductIterator{Tuple{UnitRange{Int64},UnitRange{Int64}}},var\"#13#14\"}) at .\\array.jl:665",
      " [4] top-level scope at In[3]:16"
     ]
    }
   ],
   "source": [
    "# 演習問題1_2\n",
    "# refinement前の基底関数\n",
    "p = 1\n",
    "k = [0.0, 0.0, 1.0, 1.0]\n",
    "N = length(k)-p-1\n",
    "a = [-1.0,1.0]\n",
    "\n",
    "# refinement後の基底関数\n",
    "pr = 1\n",
    "kr = [0.0, 0.0, 1/3, 2/3, 1.0, 1.0]\n",
    "Nr = length(kr)-pr-1\n",
    "ar = zeros(Float64,Nr)\n",
    "\n",
    "# Cijを求める\n",
    "κ = [kr[i]*(Nr-i)/(Nr+1)+kr[i+pr+1]*(i+1)/(Nr+1) for i in 1:Nr]\n",
    "\n",
    "A = [Bs(j,pr,kr,κ[i]) for i in 1:Nr, j in 1:Nr]\n",
    "x = zeros(Float64,Nr)\n",
    "C = zeros(Float64,(N,Nr))\n",
    "for i in 1:N\n",
    "    b = [Bs(i,p,k,κ[j]) for j in 1:Nr]\n",
    "    x = A\\b\n",
    "    for j in 1:Nr\n",
    "        C[i,j] = x[j]\n",
    "    end\n",
    "end\n",
    "\n",
    "# 制御点を求める\n",
    "for i in 1:Nr\n",
    "    ar[i] = sum(C[j,i]*a[j] for j in 1:N)\n",
    "end\n",
    "ar"
   ]
  },
  {
   "cell_type": "code",
   "execution_count": 4,
   "metadata": {},
   "outputs": [
    {
     "ename": "UndefVarError",
     "evalue": "UndefVarError: Bs not defined",
     "output_type": "error",
     "traceback": [
      "UndefVarError: Bs not defined",
      "",
      "Stacktrace:",
      " [1] (::var\"#17#18\")(::Tuple{Int64,Int64}) at .\\none:0",
      " [2] iterate at .\\generator.jl:47 [inlined]",
      " [3] collect(::Base.Generator{Base.Iterators.ProductIterator{Tuple{UnitRange{Int64},UnitRange{Int64}}},var\"#17#18\"}) at .\\array.jl:665",
      " [4] top-level scope at In[4]:16"
     ]
    }
   ],
   "source": [
    "# 演習問題1_3\n",
    "# refinement前の基底関数\n",
    "p = 1\n",
    "k = [0.0, 0.0, 1.0, 1.0]\n",
    "N = length(k)-p-1\n",
    "a = [-1.0,1.0]\n",
    "\n",
    "# refinement後の基底関数\n",
    "pr = 2\n",
    "kr = [0.0, 0.0, 0.0, 1/3, 2/3, 1.0, 1.0, 1.0]\n",
    "Nr = length(kr)-pr-1\n",
    "ar = zeros(Float64,Nr)\n",
    "\n",
    "# Cijを求める\n",
    "κ = [kr[i]*(Nr-i)/(Nr+1)+kr[i+p+1]*(i+1)/(Nr+1) for i in 1:Nr]\n",
    "\n",
    "A = [Bs(j,pr,kr,κ[i]) for i in 1:Nr, j in 1:Nr]\n",
    "x = zeros(Float64,Nr)\n",
    "C = zeros(Float64,(N,Nr))\n",
    "for i in 1:N\n",
    "    b = [Bs(i,p,k,κ[j]) for j in 1:Nr]\n",
    "    x = A\\b\n",
    "    for j in 1:Nr\n",
    "        C[i,j] = x[j]\n",
    "    end\n",
    "end\n",
    "\n",
    "# 制御点を求める\n",
    "for i in 1:Nr\n",
    "    ar[i] = sum(C[j,i]*a[j] for j in 1:N)\n",
    "end\n",
    "ar"
   ]
  },
  {
   "cell_type": "code",
   "execution_count": null,
   "metadata": {},
   "outputs": [],
   "source": []
  },
  {
   "cell_type": "code",
   "execution_count": null,
   "metadata": {},
   "outputs": [],
   "source": []
  }
 ],
 "metadata": {
  "kernelspec": {
   "display_name": "Julia 1.4.0",
   "language": "julia",
   "name": "julia-1.4"
  },
  "language_info": {
   "file_extension": ".jl",
   "mimetype": "application/julia",
   "name": "julia",
   "version": "1.4.0"
  }
 },
 "nbformat": 4,
 "nbformat_minor": 4
}
